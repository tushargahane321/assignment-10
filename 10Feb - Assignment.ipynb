{
 "cells": [
  {
   "cell_type": "code",
   "execution_count": null,
   "id": "8f9c8a68-7c1a-433b-ac6b-71db42752525",
   "metadata": {},
   "outputs": [],
   "source": [
    "Q1. Which function is used to open a file? What are the different modes of opening a file? Explain each mode\n",
    "of file opening."
   ]
  },
  {
   "cell_type": "code",
   "execution_count": null,
   "id": "472f858f-91b1-4a3e-ae0b-1d9b060258ce",
   "metadata": {},
   "outputs": [],
   "source": [
    " Answer: In Python, the function used to open a file is open(). The different modes of opening a file in Python are:\n",
    "        1.\"r\" (read mode): This mode opens a file for reading only. It raises an error if the file does not exist.\n",
    "\n",
    "        2.\"w\" (write mode): This mode opens a file for writing only. If the file already exists, it truncates the file to zero length. If the file does not exist, it creates a new file.\n",
    "\n",
    "        3.\"a\" (append mode): This mode opens a file for writing only. If the file already exists, it appends data to the end of the file. If the file does not exist, it creates a new file.\n",
    "\n",
    "        4.\"x\" (exclusive creation mode): This mode creates a new file and opens it for writing only. If the file already exists, it raises an error.\n",
    "\n",
    "        5.\"b\" (binary mode): This mode opens a file in binary mode. It should be used with one of the other modes (e.g., \"rb\" for read mode in binary).\n",
    "\n",
    "        Modes can be combined with a plus sign (\"+\") to allow both reading and writing. For example, \"r+\" opens the file for both reading and writing.\n",
    "\n",
    "        It's important to note that when a file is opened, it should always be closed after use using the close() function."
   ]
  },
  {
   "cell_type": "code",
   "execution_count": null,
   "id": "7495278e-071c-41a1-8367-f454c03c9aca",
   "metadata": {},
   "outputs": [],
   "source": [
    "Question 2: Why close() function is used? Why is it important to close a file? "
   ]
  },
  {
   "cell_type": "code",
   "execution_count": null,
   "id": "50009195-5332-4d19-9439-ffea474de56f",
   "metadata": {},
   "outputs": [],
   "source": [
    "Answer : The close() function is used to close a file that was previously opened using the open() function in Python. It is important to close a file after use for several reasons:\n",
    "    1.To free up system resources: When a file is opened, the operating system assigns resources to handle the file. If a file is not closed after use, these resources will continue to be allocated until the program terminates or the file is closed. This can lead to resource exhaustion, which can cause problems for the operating system and other applications.\n",
    "\n",
    "    2.To ensure data is written to the file: When a file is opened for writing, data is written to an internal buffer until it is written to the file on disk. If the file is not closed properly, the data in the buffer may not be written to the file, which can result in data loss or corruption.\n",
    "\n",
    "    3.To prevent accidental modification: If a file is not closed after use, it can still be modified by other programs or users, which can lead to unexpected behavior and errors.\n",
    "\n",
    "    To avoid these problems, it's important to always close a file after use using the close() function. Alternatively, you can use a context manager (with open(...) as file:) to automatically close the file when the block of code is exited."
   ]
  },
  {
   "cell_type": "code",
   "execution_count": null,
   "id": "6681326f-718b-491b-acc0-60899d990be6",
   "metadata": {},
   "outputs": [],
   "source": [
    "Questin 3. Write a python program to create a text file. Write ‘I want to become a Data Scientist’ in that file. Then close the file. Open this file and read the content of the file."
   ]
  },
  {
   "cell_type": "code",
   "execution_count": 2,
   "id": "2c76195c-69be-46f6-8cb2-3f46de4b5058",
   "metadata": {},
   "outputs": [
    {
     "name": "stdout",
     "output_type": "stream",
     "text": [
      "I want to become data scientist.\n"
     ]
    }
   ],
   "source": [
    "# Write a string to the file\n",
    "with open(\"text2.txt\", \"w\") as file:\n",
    "    file.write(\"I want to become data scientist.\")\n",
    "\n",
    " # Open the file in read mode\n",
    "with open(\"text2.txt\") as file:\n",
    "    # Print the content of the file\n",
    "    print(file.read())"
   ]
  },
  {
   "cell_type": "code",
   "execution_count": null,
   "id": "ca93d05a-2688-4588-abb1-ce426d91dae9",
   "metadata": {},
   "outputs": [],
   "source": [
    "Q4. Explain the following with python code: read(), readline() and readlines()."
   ]
  },
  {
   "cell_type": "code",
   "execution_count": null,
   "id": "5e2b2eb5-8537-44ab-970c-92e61f7aaaa9",
   "metadata": {},
   "outputs": [],
   "source": [
    "Answer:In Python, there are several ways to read the contents of a file. Here's a brief explanation of read(), readline(), and readlines(), along with examples of how to use them:\n",
    "      1.read(): This method reads the entire content of a file and returns it as a string. If the file is too large, it may not fit into memory."
   ]
  },
  {
   "cell_type": "code",
   "execution_count": 6,
   "id": "3e8965c7-d02b-4f96-98a5-ff3958f2fa7c",
   "metadata": {},
   "outputs": [
    {
     "name": "stdout",
     "output_type": "stream",
     "text": [
      "I want to become data scientist.I am learning python.\n"
     ]
    }
   ],
   "source": [
    "# Write a string to the file\n",
    "with open(\"example.txt\", \"w\") as file:\n",
    "    file.write(\"I want to become data scientist.I am learning python.\")\n",
    "\n",
    " # Open the file in read mode\n",
    "with open(\"example.txt\") as file:\n",
    "    # Print the content of the file\n",
    "    print(file.read())"
   ]
  },
  {
   "cell_type": "code",
   "execution_count": 7,
   "id": "7a785431-f240-4b79-86de-dac61200bc32",
   "metadata": {},
   "outputs": [
    {
     "name": "stdout",
     "output_type": "stream",
     "text": [
      "I want to become data scientist.I am learning python.\n"
     ]
    }
   ],
   "source": [
    "# Open the file in read mode\n",
    "file = open(\"example.txt\", \"r\")\n",
    "\n",
    "# Read the entire content of the file\n",
    "content = file.read()\n",
    "\n",
    "# Close the file\n",
    "file.close()\n",
    "\n",
    "# Print the content of the file\n",
    "print(content)"
   ]
  },
  {
   "cell_type": "code",
   "execution_count": null,
   "id": "2387f6bd-0132-4205-b3bc-d031eead6003",
   "metadata": {},
   "outputs": [],
   "source": [
    "2.readline(): This method reads one line at a time from the file and returns it as a string. It returns an empty string when the end of the file is reached"
   ]
  },
  {
   "cell_type": "code",
   "execution_count": 8,
   "id": "d875d232-977a-470e-9691-941d703f3df7",
   "metadata": {},
   "outputs": [
    {
     "name": "stdout",
     "output_type": "stream",
     "text": [
      "I want to become data scientist.I am learning python.\n",
      "\n"
     ]
    }
   ],
   "source": [
    "# Open the file in read mode\n",
    "file = open(\"example.txt\", \"r\")\n",
    "\n",
    "# Read the first line of the file\n",
    "line1 = file.readline()\n",
    "\n",
    "# Read the second line of the file\n",
    "line2 = file.readline()\n",
    "\n",
    "# Close the file\n",
    "file.close()\n",
    "\n",
    "# Print the first two lines of the file\n",
    "print(line1)\n",
    "print(line2)"
   ]
  },
  {
   "cell_type": "code",
   "execution_count": null,
   "id": "8f524a67-8881-418b-8557-cefc824668dd",
   "metadata": {},
   "outputs": [],
   "source": [
    "3.readlines(): This method reads all the lines of a file and returns them as a list of strings. Each line is a separate element in the list"
   ]
  },
  {
   "cell_type": "code",
   "execution_count": 9,
   "id": "5fd69b00-4078-455f-9028-654d718f2717",
   "metadata": {},
   "outputs": [
    {
     "name": "stdout",
     "output_type": "stream",
     "text": [
      "I want to become data scientist.I am learning python.\n"
     ]
    }
   ],
   "source": [
    "# Open the file in read mode\n",
    "file = open(\"example.txt\", \"r\")\n",
    "\n",
    "# Read all the lines of the file\n",
    "lines = file.readlines()\n",
    "\n",
    "# Close the file\n",
    "file.close()\n",
    "\n",
    "# Print all the lines of the file\n",
    "for line in lines:\n",
    "    print(line)"
   ]
  },
  {
   "cell_type": "code",
   "execution_count": null,
   "id": "4f4ec6f0-d26b-48fa-aa22-af9c6c39de2b",
   "metadata": {},
   "outputs": [],
   "source": [
    "In all three examples, we first open the file in read mode using the open() function, and then read the content of the file using the appropriate method. We then close the file using the close() function.\n",
    "\n",
    "The output of the above code will depend on the content of the file \"example.txt\". In general, read() returns the entire content of the file as a single string, readline() returns one line at a time, and readlines() returns a list of all the lines in the file."
   ]
  },
  {
   "cell_type": "markdown",
   "id": "42c96ab6-4368-406f-a66d-f84a1b0d49e4",
   "metadata": {},
   "source": [
    "Question 5. Explain why with statement is used with open(). What is the advantage of using with statement and open() together?"
   ]
  },
  {
   "cell_type": "code",
   "execution_count": null,
   "id": "d764d568-6b04-4bc5-a688-55959895f950",
   "metadata": {},
   "outputs": [],
   "source": [
    "Answer:In Python, the with statement is used in conjunction with the open() function to manage the opening and closing of a file.The advantage of using thewith statement with open() is that it automatically takes care of closing the file once the block of code inside the with statement is completed or an exception is raised. This is done through the use of a context manager, which guarantees that the file is properly closed, even if an error occurs during the execution of the block."
   ]
  },
  {
   "cell_type": "code",
   "execution_count": null,
   "id": "7a589f69-13ec-4cca-8e04-dadd84263125",
   "metadata": {},
   "outputs": [],
   "source": [
    "Here is an example that shows how to use the with statement with open() to read the contents of a file:"
   ]
  },
  {
   "cell_type": "code",
   "execution_count": 10,
   "id": "75d2658b-dccf-4a4a-bb34-6dfdce5eda38",
   "metadata": {},
   "outputs": [
    {
     "name": "stdout",
     "output_type": "stream",
     "text": [
      "I want to become data scientist.I am learning python.\n"
     ]
    }
   ],
   "source": [
    "# Open the file in read mode using with statement\n",
    "with open(\"example.txt\", \"r\") as file:\n",
    "    # Read the content of the file\n",
    "    content = file.read()\n",
    "\n",
    "# The file is automatically closed when the block is exited\n",
    "print(content)"
   ]
  },
  {
   "cell_type": "markdown",
   "id": "837212b9-d61e-42a4-b498-9a248795b63c",
   "metadata": {},
   "source": [
    "Question 6. Explain the write() and writelines() functions. Give a suitable example. Answer :n Python, the write() and writelines() functions are used to write data to a file. Here's a brief explanation of both functions, along with an example of how to use them:"
   ]
  },
  {
   "cell_type": "code",
   "execution_count": null,
   "id": "2018a609-365f-4987-8f41-b449680d2de0",
   "metadata": {},
   "outputs": [],
   "source": [
    "1.write(): This method is used to write a string to a file. If the file doesn't exist, it will be created. If the file already exists, the content of the file will be overwritten. The write() method returns the number of characters written to the file."
   ]
  },
  {
   "cell_type": "code",
   "execution_count": null,
   "id": "b75a3d78-1827-41e2-88c7-a286a75044fd",
   "metadata": {},
   "outputs": [],
   "source": [
    "# Open the file in write mode\n",
    "file = open(\"example.txt\", \"w\")\n",
    "\n",
    "# Write a string to the file\n",
    "file.write(\"I want to become a data scientist.\")\n",
    "\n",
    "# Close the file\n",
    "file.close()"
   ]
  },
  {
   "cell_type": "code",
   "execution_count": null,
   "id": "16e8c1d7-a466-42c8-b9c0-28e87e4bf957",
   "metadata": {},
   "outputs": [],
   "source": [
    "2.writelines(): This method is used to write a list of strings to a file. If the file doesn't exist, it will be created. If the file already exists, the content of the file will be overwritten."
   ]
  },
  {
   "cell_type": "code",
   "execution_count": null,
   "id": "90e8ede6-e601-4285-bb7b-ce34d9a9c5bb",
   "metadata": {},
   "outputs": [],
   "source": [
    "# Open the file in write mode\n",
    "file = open(\"example.txt\", \"w\")\n",
    "\n",
    "# Write a list of strings to the file\n",
    "lines = [\"I want to become a data scientist.\", \"I am learning Python.\"]\n",
    "file.writelines(lines)\n",
    "\n",
    "# Close the file\n",
    "file.close()\n",
    "\n",
    "\"\"\"The output of the above code will create or overwrite the file \n",
    "\"example.txt\" with the content that we wrote to it using the write() or writelines() method.\"\"\""
   ]
  }
 ],
 "metadata": {
  "kernelspec": {
   "display_name": "Python 3 (ipykernel)",
   "language": "python",
   "name": "python3"
  },
  "language_info": {
   "codemirror_mode": {
    "name": "ipython",
    "version": 3
   },
   "file_extension": ".py",
   "mimetype": "text/x-python",
   "name": "python",
   "nbconvert_exporter": "python",
   "pygments_lexer": "ipython3",
   "version": "3.10.8"
  }
 },
 "nbformat": 4,
 "nbformat_minor": 5
}
